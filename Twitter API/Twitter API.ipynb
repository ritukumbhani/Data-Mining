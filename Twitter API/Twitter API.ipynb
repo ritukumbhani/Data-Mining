{
 "cells": [
  {
   "cell_type": "code",
   "execution_count": 2,
   "id": "11285a53",
   "metadata": {},
   "outputs": [
    {
     "name": "stdout",
     "output_type": "stream",
     "text": [
      "Collecting tweepy\n",
      "  Downloading tweepy-4.12.1-py3-none-any.whl (101 kB)\n",
      "     -------------------------------------- 101.6/101.6 kB 6.1 MB/s eta 0:00:00\n",
      "Collecting requests-oauthlib<2,>=1.2.0\n",
      "  Using cached requests_oauthlib-1.3.1-py2.py3-none-any.whl (23 kB)\n",
      "Requirement already satisfied: requests<3,>=2.27.0 in c:\\users\\rituk\\anaconda3\\lib\\site-packages (from tweepy) (2.28.1)\n",
      "Collecting oauthlib<4,>=3.2.0\n",
      "  Using cached oauthlib-3.2.2-py3-none-any.whl (151 kB)\n",
      "Requirement already satisfied: idna<4,>=2.5 in c:\\users\\rituk\\anaconda3\\lib\\site-packages (from requests<3,>=2.27.0->tweepy) (3.3)\n",
      "Requirement already satisfied: charset-normalizer<3,>=2 in c:\\users\\rituk\\anaconda3\\lib\\site-packages (from requests<3,>=2.27.0->tweepy) (2.0.4)\n",
      "Requirement already satisfied: certifi>=2017.4.17 in c:\\users\\rituk\\anaconda3\\lib\\site-packages (from requests<3,>=2.27.0->tweepy) (2022.9.14)\n",
      "Requirement already satisfied: urllib3<1.27,>=1.21.1 in c:\\users\\rituk\\anaconda3\\lib\\site-packages (from requests<3,>=2.27.0->tweepy) (1.26.11)\n",
      "Installing collected packages: oauthlib, requests-oauthlib, tweepy\n",
      "Successfully installed oauthlib-3.2.2 requests-oauthlib-1.3.1 tweepy-4.12.1\n",
      "Note: you may need to restart the kernel to use updated packages.\n"
     ]
    }
   ],
   "source": [
    "pip install tweepy"
   ]
  },
  {
   "cell_type": "code",
   "execution_count": 3,
   "id": "c353fa61",
   "metadata": {},
   "outputs": [
    {
     "name": "stdout",
     "output_type": "stream",
     "text": [
      "Collecting python-dotenv\n",
      "  Downloading python_dotenv-0.21.1-py3-none-any.whl (19 kB)\n",
      "Installing collected packages: python-dotenv\n",
      "Successfully installed python-dotenv-0.21.1\n",
      "Note: you may need to restart the kernel to use updated packages.\n"
     ]
    }
   ],
   "source": [
    "pip install python-dotenv"
   ]
  },
  {
   "cell_type": "code",
   "execution_count": 42,
   "id": "92dd11bd",
   "metadata": {},
   "outputs": [],
   "source": [
    "import configparser\n",
    "import tweepy\n",
    "\n",
    "# read config\n",
    "config = configparser.ConfigParser()\n",
    "config.read('config.ini')\n",
    "\n",
    "api_key = config['twitter']['api_key']\n",
    "api_key_secret = config['twitter']['api_key_secret']\n",
    "\n",
    "access_token = config['twitter']['access_token']\n",
    "access_token_secret = config['twitter']['access_token_secret']\n",
    "\n",
    "# authenticate\n",
    "auth = tweepy.OAuthHandler(api_key, api_key_secret)\n",
    "auth.set_access_token(access_token, access_token_secret)\n",
    "\n",
    "api = tweepy.API(auth)"
   ]
  },
  {
   "cell_type": "code",
   "execution_count": 43,
   "id": "775a1130",
   "metadata": {},
   "outputs": [
    {
     "name": "stdout",
     "output_type": "stream",
     "text": [
      "[Status(_api=<tweepy.api.API object at 0x00000238A96981F0>, _json={'created_at': 'Sat Jan 28 18:45:59 +0000 2023', 'id': 1619406448613621760, 'id_str': '1619406448613621760', 'text': \"Kit Kat (@KITKAT) cleverly took advantage of the vertical video format — displayed in a square format on people's t… https://t.co/MQT0trywmJ\", 'truncated': True, 'entities': {'hashtags': [], 'symbols': [], 'user_mentions': [{'screen_name': 'KITKAT', 'name': 'KITKAT', 'id': 335207743, 'id_str': '335207743', 'indices': [9, 16]}], 'urls': [{'url': 'https://t.co/MQT0trywmJ', 'expanded_url': 'https://twitter.com/i/web/status/1619406448613621760', 'display_url': 'twitter.com/i/web/status/1…', 'indices': [117, 140]}]}, 'source': '<a href=\"https://mobile.twitter.com\" rel=\"nofollow\">Twitter Web App</a>', 'in_reply_to_status_id': None, 'in_reply_to_status_id_str': None, 'in_reply_to_user_id': None, 'in_reply_to_user_id_str': None, 'in_reply_to_screen_name': None, 'user': {'id': 1601354263380254720, 'id_str': '1601354263380254720', 'name': 'Ritu Kumbhani', 'screen_name': 'KumbhaniRitu', 'location': '', 'description': '', 'url': None, 'entities': {'description': {'urls': []}}, 'protected': False, 'followers_count': 0, 'friends_count': 0, 'listed_count': 0, 'created_at': 'Fri Dec 09 23:13:59 +0000 2022', 'favourites_count': 0, 'utc_offset': None, 'time_zone': None, 'geo_enabled': False, 'verified': False, 'statuses_count': 3, 'lang': None, 'contributors_enabled': False, 'is_translator': False, 'is_translation_enabled': False, 'profile_background_color': 'F5F8FA', 'profile_background_image_url': None, 'profile_background_image_url_https': None, 'profile_background_tile': False, 'profile_image_url': 'http://pbs.twimg.com/profile_images/1601354503579729921/Br6y5-uj_normal.png', 'profile_image_url_https': 'https://pbs.twimg.com/profile_images/1601354503579729921/Br6y5-uj_normal.png', 'profile_link_color': '1DA1F2', 'profile_sidebar_border_color': 'C0DEED', 'profile_sidebar_fill_color': 'DDEEF6', 'profile_text_color': '333333', 'profile_use_background_image': True, 'has_extended_profile': True, 'default_profile': True, 'default_profile_image': False, 'following': False, 'follow_request_sent': False, 'notifications': False, 'translator_type': 'none', 'withheld_in_countries': []}, 'geo': None, 'coordinates': None, 'place': None, 'contributors': None, 'is_quote_status': False, 'retweet_count': 0, 'favorite_count': 0, 'favorited': False, 'retweeted': False, 'lang': 'en'}, created_at=datetime.datetime(2023, 1, 28, 18, 45, 59, tzinfo=datetime.timezone.utc), id=1619406448613621760, id_str='1619406448613621760', text=\"Kit Kat (@KITKAT) cleverly took advantage of the vertical video format — displayed in a square format on people's t… https://t.co/MQT0trywmJ\", truncated=True, entities={'hashtags': [], 'symbols': [], 'user_mentions': [{'screen_name': 'KITKAT', 'name': 'KITKAT', 'id': 335207743, 'id_str': '335207743', 'indices': [9, 16]}], 'urls': [{'url': 'https://t.co/MQT0trywmJ', 'expanded_url': 'https://twitter.com/i/web/status/1619406448613621760', 'display_url': 'twitter.com/i/web/status/1…', 'indices': [117, 140]}]}, source='Twitter Web App', source_url='https://mobile.twitter.com', in_reply_to_status_id=None, in_reply_to_status_id_str=None, in_reply_to_user_id=None, in_reply_to_user_id_str=None, in_reply_to_screen_name=None, author=User(_api=<tweepy.api.API object at 0x00000238A96981F0>, _json={'id': 1601354263380254720, 'id_str': '1601354263380254720', 'name': 'Ritu Kumbhani', 'screen_name': 'KumbhaniRitu', 'location': '', 'description': '', 'url': None, 'entities': {'description': {'urls': []}}, 'protected': False, 'followers_count': 0, 'friends_count': 0, 'listed_count': 0, 'created_at': 'Fri Dec 09 23:13:59 +0000 2022', 'favourites_count': 0, 'utc_offset': None, 'time_zone': None, 'geo_enabled': False, 'verified': False, 'statuses_count': 3, 'lang': None, 'contributors_enabled': False, 'is_translator': False, 'is_translation_enabled': False, 'profile_background_color': 'F5F8FA', 'profile_background_image_url': None, 'profile_background_image_url_https': None, 'profile_background_tile': False, 'profile_image_url': 'http://pbs.twimg.com/profile_images/1601354503579729921/Br6y5-uj_normal.png', 'profile_image_url_https': 'https://pbs.twimg.com/profile_images/1601354503579729921/Br6y5-uj_normal.png', 'profile_link_color': '1DA1F2', 'profile_sidebar_border_color': 'C0DEED', 'profile_sidebar_fill_color': 'DDEEF6', 'profile_text_color': '333333', 'profile_use_background_image': True, 'has_extended_profile': True, 'default_profile': True, 'default_profile_image': False, 'following': False, 'follow_request_sent': False, 'notifications': False, 'translator_type': 'none', 'withheld_in_countries': []}, id=1601354263380254720, id_str='1601354263380254720', name='Ritu Kumbhani', screen_name='KumbhaniRitu', location='', description='', url=None, entities={'description': {'urls': []}}, protected=False, followers_count=0, friends_count=0, listed_count=0, created_at=datetime.datetime(2022, 12, 9, 23, 13, 59, tzinfo=datetime.timezone.utc), favourites_count=0, utc_offset=None, time_zone=None, geo_enabled=False, verified=False, statuses_count=3, lang=None, contributors_enabled=False, is_translator=False, is_translation_enabled=False, profile_background_color='F5F8FA', profile_background_image_url=None, profile_background_image_url_https=None, profile_background_tile=False, profile_image_url='http://pbs.twimg.com/profile_images/1601354503579729921/Br6y5-uj_normal.png', profile_image_url_https='https://pbs.twimg.com/profile_images/1601354503579729921/Br6y5-uj_normal.png', profile_link_color='1DA1F2', profile_sidebar_border_color='C0DEED', profile_sidebar_fill_color='DDEEF6', profile_text_color='333333', profile_use_background_image=True, has_extended_profile=True, default_profile=True, default_profile_image=False, following=False, follow_request_sent=False, notifications=False, translator_type='none', withheld_in_countries=[]), user=User(_api=<tweepy.api.API object at 0x00000238A96981F0>, _json={'id': 1601354263380254720, 'id_str': '1601354263380254720', 'name': 'Ritu Kumbhani', 'screen_name': 'KumbhaniRitu', 'location': '', 'description': '', 'url': None, 'entities': {'description': {'urls': []}}, 'protected': False, 'followers_count': 0, 'friends_count': 0, 'listed_count': 0, 'created_at': 'Fri Dec 09 23:13:59 +0000 2022', 'favourites_count': 0, 'utc_offset': None, 'time_zone': None, 'geo_enabled': False, 'verified': False, 'statuses_count': 3, 'lang': None, 'contributors_enabled': False, 'is_translator': False, 'is_translation_enabled': False, 'profile_background_color': 'F5F8FA', 'profile_background_image_url': None, 'profile_background_image_url_https': None, 'profile_background_tile': False, 'profile_image_url': 'http://pbs.twimg.com/profile_images/1601354503579729921/Br6y5-uj_normal.png', 'profile_image_url_https': 'https://pbs.twimg.com/profile_images/1601354503579729921/Br6y5-uj_normal.png', 'profile_link_color': '1DA1F2', 'profile_sidebar_border_color': 'C0DEED', 'profile_sidebar_fill_color': 'DDEEF6', 'profile_text_color': '333333', 'profile_use_background_image': True, 'has_extended_profile': True, 'default_profile': True, 'default_profile_image': False, 'following': False, 'follow_request_sent': False, 'notifications': False, 'translator_type': 'none', 'withheld_in_countries': []}, id=1601354263380254720, id_str='1601354263380254720', name='Ritu Kumbhani', screen_name='KumbhaniRitu', location='', description='', url=None, entities={'description': {'urls': []}}, protected=False, followers_count=0, friends_count=0, listed_count=0, created_at=datetime.datetime(2022, 12, 9, 23, 13, 59, tzinfo=datetime.timezone.utc), favourites_count=0, utc_offset=None, time_zone=None, geo_enabled=False, verified=False, statuses_count=3, lang=None, contributors_enabled=False, is_translator=False, is_translation_enabled=False, profile_background_color='F5F8FA', profile_background_image_url=None, profile_background_image_url_https=None, profile_background_tile=False, profile_image_url='http://pbs.twimg.com/profile_images/1601354503579729921/Br6y5-uj_normal.png', profile_image_url_https='https://pbs.twimg.com/profile_images/1601354503579729921/Br6y5-uj_normal.png', profile_link_color='1DA1F2', profile_sidebar_border_color='C0DEED', profile_sidebar_fill_color='DDEEF6', profile_text_color='333333', profile_use_background_image=True, has_extended_profile=True, default_profile=True, default_profile_image=False, following=False, follow_request_sent=False, notifications=False, translator_type='none', withheld_in_countries=[]), geo=None, coordinates=None, place=None, contributors=None, is_quote_status=False, retweet_count=0, favorite_count=0, favorited=False, retweeted=False, lang='en'), Status(_api=<tweepy.api.API object at 0x00000238A96981F0>, _json={'created_at': 'Sat Jan 28 17:52:57 +0000 2023', 'id': 1619393104485953537, 'id_str': '1619393104485953537', 'text': 'Disneyland Paris (@DisneylandParis) is the first brand in France to use the new 360 video format, allowing 360-degr… https://t.co/nkIK7ufB3c', 'truncated': True, 'entities': {'hashtags': [], 'symbols': [], 'user_mentions': [{'screen_name': 'DisneylandParis', 'name': 'Disneyland Paris', 'id': 123818293, 'id_str': '123818293', 'indices': [18, 34]}], 'urls': [{'url': 'https://t.co/nkIK7ufB3c', 'expanded_url': 'https://twitter.com/i/web/status/1619393104485953537', 'display_url': 'twitter.com/i/web/status/1…', 'indices': [117, 140]}]}, 'source': '<a href=\"https://mobile.twitter.com\" rel=\"nofollow\">Twitter Web App</a>', 'in_reply_to_status_id': None, 'in_reply_to_status_id_str': None, 'in_reply_to_user_id': None, 'in_reply_to_user_id_str': None, 'in_reply_to_screen_name': None, 'user': {'id': 1601354263380254720, 'id_str': '1601354263380254720', 'name': 'Ritu Kumbhani', 'screen_name': 'KumbhaniRitu', 'location': '', 'description': '', 'url': None, 'entities': {'description': {'urls': []}}, 'protected': False, 'followers_count': 0, 'friends_count': 0, 'listed_count': 0, 'created_at': 'Fri Dec 09 23:13:59 +0000 2022', 'favourites_count': 0, 'utc_offset': None, 'time_zone': None, 'geo_enabled': False, 'verified': False, 'statuses_count': 3, 'lang': None, 'contributors_enabled': False, 'is_translator': False, 'is_translation_enabled': False, 'profile_background_color': 'F5F8FA', 'profile_background_image_url': None, 'profile_background_image_url_https': None, 'profile_background_tile': False, 'profile_image_url': 'http://pbs.twimg.com/profile_images/1601354503579729921/Br6y5-uj_normal.png', 'profile_image_url_https': 'https://pbs.twimg.com/profile_images/1601354503579729921/Br6y5-uj_normal.png', 'profile_link_color': '1DA1F2', 'profile_sidebar_border_color': 'C0DEED', 'profile_sidebar_fill_color': 'DDEEF6', 'profile_text_color': '333333', 'profile_use_background_image': True, 'has_extended_profile': True, 'default_profile': True, 'default_profile_image': False, 'following': False, 'follow_request_sent': False, 'notifications': False, 'translator_type': 'none', 'withheld_in_countries': []}, 'geo': None, 'coordinates': None, 'place': None, 'contributors': None, 'is_quote_status': False, 'retweet_count': 0, 'favorite_count': 0, 'favorited': False, 'retweeted': False, 'lang': 'en'}, created_at=datetime.datetime(2023, 1, 28, 17, 52, 57, tzinfo=datetime.timezone.utc), id=1619393104485953537, id_str='1619393104485953537', text='Disneyland Paris (@DisneylandParis) is the first brand in France to use the new 360 video format, allowing 360-degr… https://t.co/nkIK7ufB3c', truncated=True, entities={'hashtags': [], 'symbols': [], 'user_mentions': [{'screen_name': 'DisneylandParis', 'name': 'Disneyland Paris', 'id': 123818293, 'id_str': '123818293', 'indices': [18, 34]}], 'urls': [{'url': 'https://t.co/nkIK7ufB3c', 'expanded_url': 'https://twitter.com/i/web/status/1619393104485953537', 'display_url': 'twitter.com/i/web/status/1…', 'indices': [117, 140]}]}, source='Twitter Web App', source_url='https://mobile.twitter.com', in_reply_to_status_id=None, in_reply_to_status_id_str=None, in_reply_to_user_id=None, in_reply_to_user_id_str=None, in_reply_to_screen_name=None, author=User(_api=<tweepy.api.API object at 0x00000238A96981F0>, _json={'id': 1601354263380254720, 'id_str': '1601354263380254720', 'name': 'Ritu Kumbhani', 'screen_name': 'KumbhaniRitu', 'location': '', 'description': '', 'url': None, 'entities': {'description': {'urls': []}}, 'protected': False, 'followers_count': 0, 'friends_count': 0, 'listed_count': 0, 'created_at': 'Fri Dec 09 23:13:59 +0000 2022', 'favourites_count': 0, 'utc_offset': None, 'time_zone': None, 'geo_enabled': False, 'verified': False, 'statuses_count': 3, 'lang': None, 'contributors_enabled': False, 'is_translator': False, 'is_translation_enabled': False, 'profile_background_color': 'F5F8FA', 'profile_background_image_url': None, 'profile_background_image_url_https': None, 'profile_background_tile': False, 'profile_image_url': 'http://pbs.twimg.com/profile_images/1601354503579729921/Br6y5-uj_normal.png', 'profile_image_url_https': 'https://pbs.twimg.com/profile_images/1601354503579729921/Br6y5-uj_normal.png', 'profile_link_color': '1DA1F2', 'profile_sidebar_border_color': 'C0DEED', 'profile_sidebar_fill_color': 'DDEEF6', 'profile_text_color': '333333', 'profile_use_background_image': True, 'has_extended_profile': True, 'default_profile': True, 'default_profile_image': False, 'following': False, 'follow_request_sent': False, 'notifications': False, 'translator_type': 'none', 'withheld_in_countries': []}, id=1601354263380254720, id_str='1601354263380254720', name='Ritu Kumbhani', screen_name='KumbhaniRitu', location='', description='', url=None, entities={'description': {'urls': []}}, protected=False, followers_count=0, friends_count=0, listed_count=0, created_at=datetime.datetime(2022, 12, 9, 23, 13, 59, tzinfo=datetime.timezone.utc), favourites_count=0, utc_offset=None, time_zone=None, geo_enabled=False, verified=False, statuses_count=3, lang=None, contributors_enabled=False, is_translator=False, is_translation_enabled=False, profile_background_color='F5F8FA', profile_background_image_url=None, profile_background_image_url_https=None, profile_background_tile=False, profile_image_url='http://pbs.twimg.com/profile_images/1601354503579729921/Br6y5-uj_normal.png', profile_image_url_https='https://pbs.twimg.com/profile_images/1601354503579729921/Br6y5-uj_normal.png', profile_link_color='1DA1F2', profile_sidebar_border_color='C0DEED', profile_sidebar_fill_color='DDEEF6', profile_text_color='333333', profile_use_background_image=True, has_extended_profile=True, default_profile=True, default_profile_image=False, following=False, follow_request_sent=False, notifications=False, translator_type='none', withheld_in_countries=[]), user=User(_api=<tweepy.api.API object at 0x00000238A96981F0>, _json={'id': 1601354263380254720, 'id_str': '1601354263380254720', 'name': 'Ritu Kumbhani', 'screen_name': 'KumbhaniRitu', 'location': '', 'description': '', 'url': None, 'entities': {'description': {'urls': []}}, 'protected': False, 'followers_count': 0, 'friends_count': 0, 'listed_count': 0, 'created_at': 'Fri Dec 09 23:13:59 +0000 2022', 'favourites_count': 0, 'utc_offset': None, 'time_zone': None, 'geo_enabled': False, 'verified': False, 'statuses_count': 3, 'lang': None, 'contributors_enabled': False, 'is_translator': False, 'is_translation_enabled': False, 'profile_background_color': 'F5F8FA', 'profile_background_image_url': None, 'profile_background_image_url_https': None, 'profile_background_tile': False, 'profile_image_url': 'http://pbs.twimg.com/profile_images/1601354503579729921/Br6y5-uj_normal.png', 'profile_image_url_https': 'https://pbs.twimg.com/profile_images/1601354503579729921/Br6y5-uj_normal.png', 'profile_link_color': '1DA1F2', 'profile_sidebar_border_color': 'C0DEED', 'profile_sidebar_fill_color': 'DDEEF6', 'profile_text_color': '333333', 'profile_use_background_image': True, 'has_extended_profile': True, 'default_profile': True, 'default_profile_image': False, 'following': False, 'follow_request_sent': False, 'notifications': False, 'translator_type': 'none', 'withheld_in_countries': []}, id=1601354263380254720, id_str='1601354263380254720', name='Ritu Kumbhani', screen_name='KumbhaniRitu', location='', description='', url=None, entities={'description': {'urls': []}}, protected=False, followers_count=0, friends_count=0, listed_count=0, created_at=datetime.datetime(2022, 12, 9, 23, 13, 59, tzinfo=datetime.timezone.utc), favourites_count=0, utc_offset=None, time_zone=None, geo_enabled=False, verified=False, statuses_count=3, lang=None, contributors_enabled=False, is_translator=False, is_translation_enabled=False, profile_background_color='F5F8FA', profile_background_image_url=None, profile_background_image_url_https=None, profile_background_tile=False, profile_image_url='http://pbs.twimg.com/profile_images/1601354503579729921/Br6y5-uj_normal.png', profile_image_url_https='https://pbs.twimg.com/profile_images/1601354503579729921/Br6y5-uj_normal.png', profile_link_color='1DA1F2', profile_sidebar_border_color='C0DEED', profile_sidebar_fill_color='DDEEF6', profile_text_color='333333', profile_use_background_image=True, has_extended_profile=True, default_profile=True, default_profile_image=False, following=False, follow_request_sent=False, notifications=False, translator_type='none', withheld_in_countries=[]), geo=None, coordinates=None, place=None, contributors=None, is_quote_status=False, retweet_count=0, favorite_count=0, favorited=False, retweeted=False, lang='en'), Status(_api=<tweepy.api.API object at 0x00000238A96981F0>, _json={'created_at': 'Sat Jan 28 17:50:58 +0000 2023', 'id': 1619392606328492034, 'id_str': '1619392606328492034', 'text': 'Run a marathon in under two hours. Impossible? Not for Nike (@Nike). Last May, the company brought three of the bes… https://t.co/KBeiIvauqP', 'truncated': True, 'entities': {'hashtags': [], 'symbols': [], 'user_mentions': [{'screen_name': 'Nike', 'name': 'Nike', 'id': 415859364, 'id_str': '415859364', 'indices': [61, 66]}], 'urls': [{'url': 'https://t.co/KBeiIvauqP', 'expanded_url': 'https://twitter.com/i/web/status/1619392606328492034', 'display_url': 'twitter.com/i/web/status/1…', 'indices': [117, 140]}]}, 'source': '<a href=\"https://mobile.twitter.com\" rel=\"nofollow\">Twitter Web App</a>', 'in_reply_to_status_id': None, 'in_reply_to_status_id_str': None, 'in_reply_to_user_id': None, 'in_reply_to_user_id_str': None, 'in_reply_to_screen_name': None, 'user': {'id': 1601354263380254720, 'id_str': '1601354263380254720', 'name': 'Ritu Kumbhani', 'screen_name': 'KumbhaniRitu', 'location': '', 'description': '', 'url': None, 'entities': {'description': {'urls': []}}, 'protected': False, 'followers_count': 0, 'friends_count': 0, 'listed_count': 0, 'created_at': 'Fri Dec 09 23:13:59 +0000 2022', 'favourites_count': 0, 'utc_offset': None, 'time_zone': None, 'geo_enabled': False, 'verified': False, 'statuses_count': 3, 'lang': None, 'contributors_enabled': False, 'is_translator': False, 'is_translation_enabled': False, 'profile_background_color': 'F5F8FA', 'profile_background_image_url': None, 'profile_background_image_url_https': None, 'profile_background_tile': False, 'profile_image_url': 'http://pbs.twimg.com/profile_images/1601354503579729921/Br6y5-uj_normal.png', 'profile_image_url_https': 'https://pbs.twimg.com/profile_images/1601354503579729921/Br6y5-uj_normal.png', 'profile_link_color': '1DA1F2', 'profile_sidebar_border_color': 'C0DEED', 'profile_sidebar_fill_color': 'DDEEF6', 'profile_text_color': '333333', 'profile_use_background_image': True, 'has_extended_profile': True, 'default_profile': True, 'default_profile_image': False, 'following': False, 'follow_request_sent': False, 'notifications': False, 'translator_type': 'none', 'withheld_in_countries': []}, 'geo': None, 'coordinates': None, 'place': None, 'contributors': None, 'is_quote_status': False, 'retweet_count': 0, 'favorite_count': 0, 'favorited': False, 'retweeted': False, 'lang': 'en'}, created_at=datetime.datetime(2023, 1, 28, 17, 50, 58, tzinfo=datetime.timezone.utc), id=1619392606328492034, id_str='1619392606328492034', text='Run a marathon in under two hours. Impossible? Not for Nike (@Nike). Last May, the company brought three of the bes… https://t.co/KBeiIvauqP', truncated=True, entities={'hashtags': [], 'symbols': [], 'user_mentions': [{'screen_name': 'Nike', 'name': 'Nike', 'id': 415859364, 'id_str': '415859364', 'indices': [61, 66]}], 'urls': [{'url': 'https://t.co/KBeiIvauqP', 'expanded_url': 'https://twitter.com/i/web/status/1619392606328492034', 'display_url': 'twitter.com/i/web/status/1…', 'indices': [117, 140]}]}, source='Twitter Web App', source_url='https://mobile.twitter.com', in_reply_to_status_id=None, in_reply_to_status_id_str=None, in_reply_to_user_id=None, in_reply_to_user_id_str=None, in_reply_to_screen_name=None, author=User(_api=<tweepy.api.API object at 0x00000238A96981F0>, _json={'id': 1601354263380254720, 'id_str': '1601354263380254720', 'name': 'Ritu Kumbhani', 'screen_name': 'KumbhaniRitu', 'location': '', 'description': '', 'url': None, 'entities': {'description': {'urls': []}}, 'protected': False, 'followers_count': 0, 'friends_count': 0, 'listed_count': 0, 'created_at': 'Fri Dec 09 23:13:59 +0000 2022', 'favourites_count': 0, 'utc_offset': None, 'time_zone': None, 'geo_enabled': False, 'verified': False, 'statuses_count': 3, 'lang': None, 'contributors_enabled': False, 'is_translator': False, 'is_translation_enabled': False, 'profile_background_color': 'F5F8FA', 'profile_background_image_url': None, 'profile_background_image_url_https': None, 'profile_background_tile': False, 'profile_image_url': 'http://pbs.twimg.com/profile_images/1601354503579729921/Br6y5-uj_normal.png', 'profile_image_url_https': 'https://pbs.twimg.com/profile_images/1601354503579729921/Br6y5-uj_normal.png', 'profile_link_color': '1DA1F2', 'profile_sidebar_border_color': 'C0DEED', 'profile_sidebar_fill_color': 'DDEEF6', 'profile_text_color': '333333', 'profile_use_background_image': True, 'has_extended_profile': True, 'default_profile': True, 'default_profile_image': False, 'following': False, 'follow_request_sent': False, 'notifications': False, 'translator_type': 'none', 'withheld_in_countries': []}, id=1601354263380254720, id_str='1601354263380254720', name='Ritu Kumbhani', screen_name='KumbhaniRitu', location='', description='', url=None, entities={'description': {'urls': []}}, protected=False, followers_count=0, friends_count=0, listed_count=0, created_at=datetime.datetime(2022, 12, 9, 23, 13, 59, tzinfo=datetime.timezone.utc), favourites_count=0, utc_offset=None, time_zone=None, geo_enabled=False, verified=False, statuses_count=3, lang=None, contributors_enabled=False, is_translator=False, is_translation_enabled=False, profile_background_color='F5F8FA', profile_background_image_url=None, profile_background_image_url_https=None, profile_background_tile=False, profile_image_url='http://pbs.twimg.com/profile_images/1601354503579729921/Br6y5-uj_normal.png', profile_image_url_https='https://pbs.twimg.com/profile_images/1601354503579729921/Br6y5-uj_normal.png', profile_link_color='1DA1F2', profile_sidebar_border_color='C0DEED', profile_sidebar_fill_color='DDEEF6', profile_text_color='333333', profile_use_background_image=True, has_extended_profile=True, default_profile=True, default_profile_image=False, following=False, follow_request_sent=False, notifications=False, translator_type='none', withheld_in_countries=[]), user=User(_api=<tweepy.api.API object at 0x00000238A96981F0>, _json={'id': 1601354263380254720, 'id_str': '1601354263380254720', 'name': 'Ritu Kumbhani', 'screen_name': 'KumbhaniRitu', 'location': '', 'description': '', 'url': None, 'entities': {'description': {'urls': []}}, 'protected': False, 'followers_count': 0, 'friends_count': 0, 'listed_count': 0, 'created_at': 'Fri Dec 09 23:13:59 +0000 2022', 'favourites_count': 0, 'utc_offset': None, 'time_zone': None, 'geo_enabled': False, 'verified': False, 'statuses_count': 3, 'lang': None, 'contributors_enabled': False, 'is_translator': False, 'is_translation_enabled': False, 'profile_background_color': 'F5F8FA', 'profile_background_image_url': None, 'profile_background_image_url_https': None, 'profile_background_tile': False, 'profile_image_url': 'http://pbs.twimg.com/profile_images/1601354503579729921/Br6y5-uj_normal.png', 'profile_image_url_https': 'https://pbs.twimg.com/profile_images/1601354503579729921/Br6y5-uj_normal.png', 'profile_link_color': '1DA1F2', 'profile_sidebar_border_color': 'C0DEED', 'profile_sidebar_fill_color': 'DDEEF6', 'profile_text_color': '333333', 'profile_use_background_image': True, 'has_extended_profile': True, 'default_profile': True, 'default_profile_image': False, 'following': False, 'follow_request_sent': False, 'notifications': False, 'translator_type': 'none', 'withheld_in_countries': []}, id=1601354263380254720, id_str='1601354263380254720', name='Ritu Kumbhani', screen_name='KumbhaniRitu', location='', description='', url=None, entities={'description': {'urls': []}}, protected=False, followers_count=0, friends_count=0, listed_count=0, created_at=datetime.datetime(2022, 12, 9, 23, 13, 59, tzinfo=datetime.timezone.utc), favourites_count=0, utc_offset=None, time_zone=None, geo_enabled=False, verified=False, statuses_count=3, lang=None, contributors_enabled=False, is_translator=False, is_translation_enabled=False, profile_background_color='F5F8FA', profile_background_image_url=None, profile_background_image_url_https=None, profile_background_tile=False, profile_image_url='http://pbs.twimg.com/profile_images/1601354503579729921/Br6y5-uj_normal.png', profile_image_url_https='https://pbs.twimg.com/profile_images/1601354503579729921/Br6y5-uj_normal.png', profile_link_color='1DA1F2', profile_sidebar_border_color='C0DEED', profile_sidebar_fill_color='DDEEF6', profile_text_color='333333', profile_use_background_image=True, has_extended_profile=True, default_profile=True, default_profile_image=False, following=False, follow_request_sent=False, notifications=False, translator_type='none', withheld_in_countries=[]), geo=None, coordinates=None, place=None, contributors=None, is_quote_status=False, retweet_count=0, favorite_count=0, favorited=False, retweeted=False, lang='en')]\n"
     ]
    }
   ],
   "source": [
    "public_tweets = api.home_timeline()\n",
    "print(public_tweets)"
   ]
  },
  {
   "cell_type": "code",
   "execution_count": 45,
   "id": "c1089465",
   "metadata": {},
   "outputs": [
    {
     "name": "stdout",
     "output_type": "stream",
     "text": [
      "Kit Kat (@KITKAT) cleverly took advantage of the vertical video format — displayed in a square format on people's t… https://t.co/MQT0trywmJ\n",
      "\n",
      "Disneyland Paris (@DisneylandParis) is the first brand in France to use the new 360 video format, allowing 360-degr… https://t.co/nkIK7ufB3c\n",
      "\n",
      "Run a marathon in under two hours. Impossible? Not for Nike (@Nike). Last May, the company brought three of the bes… https://t.co/KBeiIvauqP\n",
      "\n"
     ]
    }
   ],
   "source": [
    "test_tweets = api.home_timeline()\n",
    "\n",
    "# Looping through the tweets:\n",
    "for tweet in test_tweets:\n",
    "    print(tweet.text + \"\\n\")"
   ]
  },
  {
   "cell_type": "code",
   "execution_count": 39,
   "id": "e484eeaa",
   "metadata": {},
   "outputs": [],
   "source": [
    "tweets = api.search_tweets(\n",
    "    q=\"#Nike\",\n",
    "    count=10)"
   ]
  },
  {
   "cell_type": "code",
   "execution_count": 40,
   "id": "d3ece966",
   "metadata": {},
   "outputs": [
    {
     "name": "stdout",
     "output_type": "stream",
     "text": [
      "RT @bambibammi: NIKE - Sportswear Tech Fleece \n",
      "Men's Pullover Hoodie ($110)\n",
      "Men’s Joggers ($110)\n",
      "@BamBam1A #BAMBAM #NIKE https://t.co/vth9Y…\n",
      "\n",
      "https://t.co/iIvtVn5YiR Newbridge Silverware Rose Gold Plated Black Agate Necklace GBP85.00 #shoes #boots #SNEAKERS… https://t.co/szfj161LL4\n",
      "\n",
      "RT @dewan_fazlul: I can't believe it!🤩 I just won $200 Nike Gift Card! \n",
      "i m so happy 😍\n",
      "you can also try your luck too!👇\n",
      "https://t.co/kAHRAn…\n",
      "\n",
      "https://t.co/wME8u1f22j Cramele Recas - Umbrele Merlot Vilie Timisului 2021 6x 75cl Bottles GBP47.95 #shoes #boots… https://t.co/kpepO88nA5\n",
      "\n",
      "RT @bambibammi: หมวก เสื้อ กระเป๋า กางเกง รองเท้า \n",
      "NIKE ทั้งตัวเลย หรือ หรือว่า.. 😬\n",
      "\n",
      "Nike Sportswear Heritage 86 Cap - Black (฿500)\n",
      "Nike Ai…\n",
      "\n",
      "RT @PP_Peach_PP: NikeXBamBam So Cool ✨✔️\n",
      "\n",
      "#뱀뱀 #BamBam @BamBam1A \n",
      "#Nike @Nike https://t.co/0OFSERjEt8\n",
      "\n",
      "https://t.co/8T8PzZ5Mkv Playera de manga larga para mujer Naomi Osaka Collection - Morado USD1349 #shoes #boots… https://t.co/APoohFDE6M\n",
      "\n",
      "https://t.co/S9oLkg3zJn Camper Pelotas (16002) dark brown 282 GBP122.40 #shoes #boots #SNEAKERS #NIKE #ADIDAS… https://t.co/eJ5eHCkoww\n",
      "\n",
      "https://t.co/HC1KjF35AY Chlo� Black Cashmere Polka Dot Detail Crew Neck Sweater | Size 6UK Pre-owned Womens GBP120… https://t.co/nWT1eU2gg8\n",
      "\n",
      "https://t.co/8p3mcCIt76 Men's Polo Ralph Lauren Plaid Pyjama Set Multi, Black/Red GBP39.00 #shoes #boots #SNEAKERS… https://t.co/zrKOvtzMAF\n",
      "\n"
     ]
    }
   ],
   "source": [
    "for tweet in tweets:\n",
    "    print(tweet.text + \"\\n\")"
   ]
  },
  {
   "cell_type": "code",
   "execution_count": null,
   "id": "bbc78385",
   "metadata": {},
   "outputs": [],
   "source": []
  }
 ],
 "metadata": {
  "kernelspec": {
   "display_name": "Python 3 (ipykernel)",
   "language": "python",
   "name": "python3"
  },
  "language_info": {
   "codemirror_mode": {
    "name": "ipython",
    "version": 3
   },
   "file_extension": ".py",
   "mimetype": "text/x-python",
   "name": "python",
   "nbconvert_exporter": "python",
   "pygments_lexer": "ipython3",
   "version": "3.9.13"
  }
 },
 "nbformat": 4,
 "nbformat_minor": 5
}
